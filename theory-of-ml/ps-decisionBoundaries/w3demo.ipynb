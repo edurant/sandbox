{
 "cells": [
  {
   "cell_type": "markdown",
   "id": "33cb2417-8513-4f96-a10f-7b347acab718",
   "metadata": {},
   "source": [
    "# Week 3 Day 2 In-Class Example\n",
    "Decision boundaries template, Dr. Durant, Updated 2/2/2024"
   ]
  },
  {
   "cell_type": "code",
   "execution_count": null,
   "id": "3f95a7e9-bb08-445d-bfd5-f279ed7ea3d8",
   "metadata": {},
   "outputs": [],
   "source": [
    "import numpy as np\n",
    "import matplotlib.pyplot as plt\n",
    "import pandas as pd"
   ]
  },
  {
   "cell_type": "code",
   "execution_count": null,
   "id": "6ade9bc4-e000-43c5-ae80-17cfc9acdadd",
   "metadata": {},
   "outputs": [],
   "source": [
    "df1 = pd.read_csv(\"quad.csv\")\n",
    "df1.head() "
   ]
  },
  {
   "cell_type": "code",
   "execution_count": null,
   "id": "79478820-143c-42eb-8841-a7e82fc1546c",
   "metadata": {},
   "outputs": [],
   "source": [
    "class0 = df1.query('label == 0')\n",
    "class1 = df1.query('label == 1')\n",
    "plt.scatter(class0[\"x1\"], class0[\"x2\"], color='orange', label=\"Class 0\")\n",
    "plt.scatter(class1[\"x1\"], class1[\"x2\"], color='blue', label=\"Class 1\")\n",
    "plt.xlabel(\"x1\")\n",
    "plt.ylabel(\"x2\")\n",
    "plt.show()"
   ]
  },
  {
   "cell_type": "code",
   "execution_count": null,
   "id": "11b8feb3-1a6e-4894-81c2-d7b9e0aeb170",
   "metadata": {},
   "outputs": [],
   "source": [
    "xmin = df1[\"x1\"].min()\n",
    "xmax = df1[\"x1\"].max()\n",
    "#xvals = np.array([xmin, xmax])\n",
    "xvals = np.linspace(xmin, xmax, 100)\n",
    "x2_b1 = 2 * xvals - 8\n",
    "x2_b2 = 2 * xvals**2 - 8\n",
    "plt.plot(xvals, np.array([x2_b1, x2_b2]).T, label=[\"Boundary 1\", \"Boundary 2\"])\n",
    "plt.legend()"
   ]
  },
  {
   "cell_type": "code",
   "execution_count": null,
   "id": "366d38fc-3198-447f-8caf-cc43f43b4f05",
   "metadata": {},
   "outputs": [],
   "source": [
    "df2 = pd.read_csv(\"circle.csv\")\n",
    "df2.sample(n=5).head()"
   ]
  },
  {
   "cell_type": "code",
   "execution_count": null,
   "id": "f78717e2-ab39-4e9b-92f5-6cd831be17a3",
   "metadata": {},
   "outputs": [],
   "source": [
    "class0 = df2.query('label == 0')\n",
    "class1 = df2.query('label == 1')\n",
    "plt.scatter(class0[\"x1\"], class0[\"x2\"], color='orange', label=\"Class 0\")\n",
    "plt.scatter(class1[\"x1\"], class1[\"x2\"], color='blue', label=\"Class 1\")\n",
    "plt.xlabel(\"x1\")\n",
    "plt.ylabel(\"x2\")\n",
    "plt.show()"
   ]
  },
  {
   "cell_type": "code",
   "execution_count": null,
   "id": "80ad49eb-3554-486e-8442-b5ae58442ae8",
   "metadata": {},
   "outputs": [],
   "source": [
    "df2[\"x3\"] = df2[\"x1\"] + df2[\"x2\"] # What is a good derived feature?\n",
    "df2.sample(n=5).head()"
   ]
  },
  {
   "cell_type": "code",
   "execution_count": null,
   "id": "2752558c-1179-498f-84ea-de287ec6045b",
   "metadata": {},
   "outputs": [],
   "source": [
    "class0 = df2.query('label == 0')\n",
    "class1 = df2.query('label == 1')\n",
    "\n",
    "fig = plt.figure()\n",
    "ax = fig.add_subplot(projection='3d')\n",
    "\n",
    "ax.scatter(class0[\"x1\"], class0[\"x2\"], class0[\"x3\"], color='orange', label=\"Class 0\")\n",
    "ax.scatter(class1[\"x1\"], class1[\"x2\"], class1[\"x3\"], color='blue', label=\"Class 1\")\n",
    "\n",
    "ax.set_xlabel('x1')\n",
    "ax.set_ylabel('x2')\n",
    "ax.set_zlabel('x3')\n",
    "\n",
    "plt.show()"
   ]
  },
  {
   "cell_type": "code",
   "execution_count": null,
   "id": "6b05bb2d-4f67-41b7-991b-5bc620414317",
   "metadata": {},
   "outputs": [],
   "source": []
  }
 ],
 "metadata": {
  "kernelspec": {
   "display_name": "Python 3 (ipykernel)",
   "language": "python",
   "name": "python3"
  },
  "language_info": {
   "codemirror_mode": {
    "name": "ipython",
    "version": 3
   },
   "file_extension": ".py",
   "mimetype": "text/x-python",
   "name": "python",
   "nbconvert_exporter": "python",
   "pygments_lexer": "ipython3",
   "version": "3.11.7"
  }
 },
 "nbformat": 4,
 "nbformat_minor": 5
}
